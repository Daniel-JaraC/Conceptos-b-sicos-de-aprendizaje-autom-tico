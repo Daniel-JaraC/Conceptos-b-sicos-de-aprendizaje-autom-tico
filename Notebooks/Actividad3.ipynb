{
 "cells": [
  {
   "cell_type": "markdown",
   "metadata": {},
   "source": [
    "__¿Es posible predecir la prima del seguro de pacientes según sus características?__\n",
    "\n",
    "__Toma en cuenta lo siguiente:__\n",
    "\n",
    "__Age: Edad del asegurado.__\n",
    "\n",
    "__BMI: Índice de masa corporal del asegurado.__\n",
    "\n",
    "__Children: Número de hijos que dependen del asegurado.__\n",
    "\n",
    "__Charges: Variable a predecir. Cantidad asegurada en dólares.__\n",
    "\n",
    "Realiza la siguiente actividad siguiendo las instrucciones y apoyándote de las libretas vistas durante la semana."
   ]
  },
  {
   "cell_type": "markdown",
   "metadata": {},
   "source": [
    "__Instrucción 1__\n",
    "\n",
    "<p style='text-align: justify;'>Importa la paquetería de \"Pandas\", \"Numpy\", \"Matplotlib\" y asegúrate de que las visualizaciones se grafiquen en el cuaderno utilizando la instrucción \"%matplotlib inline\" y abre el archivo \"insurance_clean.csv\" en tu libreta de Jupyter.</p>"
   ]
  },
  {
   "cell_type": "code",
   "execution_count": 1,
   "metadata": {},
   "outputs": [],
   "source": [
    "import pandas as pd \n",
    "import numpy as np \n",
    "import matplotlib.pyplot as plt\n",
    "%matplotlib inline"
   ]
  },
  {
   "cell_type": "code",
   "execution_count": 4,
   "metadata": {},
   "outputs": [],
   "source": [
    "df = pd.read_csv('insurance_clean.csv')"
   ]
  },
  {
   "cell_type": "markdown",
   "metadata": {},
   "source": [
    "__Instrucción 2__\n",
    "\n",
    "<p style='text-align: justify;'>Muestras las primeras 5 filas de tu tabla.</p>"
   ]
  },
  {
   "cell_type": "code",
   "execution_count": 5,
   "metadata": {},
   "outputs": [
    {
     "data": {
      "text/html": [
       "<div>\n",
       "<style scoped>\n",
       "    .dataframe tbody tr th:only-of-type {\n",
       "        vertical-align: middle;\n",
       "    }\n",
       "\n",
       "    .dataframe tbody tr th {\n",
       "        vertical-align: top;\n",
       "    }\n",
       "\n",
       "    .dataframe thead th {\n",
       "        text-align: right;\n",
       "    }\n",
       "</style>\n",
       "<table border=\"1\" class=\"dataframe\">\n",
       "  <thead>\n",
       "    <tr style=\"text-align: right;\">\n",
       "      <th></th>\n",
       "      <th>Unnamed: 0</th>\n",
       "      <th>age</th>\n",
       "      <th>bmi</th>\n",
       "      <th>children</th>\n",
       "      <th>charges</th>\n",
       "    </tr>\n",
       "  </thead>\n",
       "  <tbody>\n",
       "    <tr>\n",
       "      <th>0</th>\n",
       "      <td>1</td>\n",
       "      <td>18</td>\n",
       "      <td>33.77</td>\n",
       "      <td>1</td>\n",
       "      <td>1725.5523</td>\n",
       "    </tr>\n",
       "    <tr>\n",
       "      <th>1</th>\n",
       "      <td>2</td>\n",
       "      <td>28</td>\n",
       "      <td>33.00</td>\n",
       "      <td>3</td>\n",
       "      <td>4449.4620</td>\n",
       "    </tr>\n",
       "    <tr>\n",
       "      <th>2</th>\n",
       "      <td>4</td>\n",
       "      <td>32</td>\n",
       "      <td>28.88</td>\n",
       "      <td>0</td>\n",
       "      <td>3866.8552</td>\n",
       "    </tr>\n",
       "    <tr>\n",
       "      <th>3</th>\n",
       "      <td>5</td>\n",
       "      <td>31</td>\n",
       "      <td>25.74</td>\n",
       "      <td>0</td>\n",
       "      <td>3756.6216</td>\n",
       "    </tr>\n",
       "    <tr>\n",
       "      <th>4</th>\n",
       "      <td>6</td>\n",
       "      <td>46</td>\n",
       "      <td>33.44</td>\n",
       "      <td>1</td>\n",
       "      <td>8240.5896</td>\n",
       "    </tr>\n",
       "  </tbody>\n",
       "</table>\n",
       "</div>"
      ],
      "text/plain": [
       "   Unnamed: 0  age    bmi  children    charges\n",
       "0           1   18  33.77         1  1725.5523\n",
       "1           2   28  33.00         3  4449.4620\n",
       "2           4   32  28.88         0  3866.8552\n",
       "3           5   31  25.74         0  3756.6216\n",
       "4           6   46  33.44         1  8240.5896"
      ]
     },
     "execution_count": 5,
     "metadata": {},
     "output_type": "execute_result"
    }
   ],
   "source": [
    "df.head()"
   ]
  },
  {
   "cell_type": "markdown",
   "metadata": {},
   "source": [
    "__Instrucción 3__\n",
    "\n",
    "<p style='text-align: justify;'>Separa el conjunto de datos en dos variables (\"X\" para la columna 'age' y \"Y\" para la variable de 'charges').\n",
    "\n",
    "Utiliza la instrucción reshape para volverle a dar forma a dichas columnas.\n",
    "</p>\n",
    "\n",
    "Ejemplo de sintáxis de la función a utilizar: __X = data[\"NombreDeLaColumna\"].values.reshape(-1, 1)__"
   ]
  },
  {
   "cell_type": "code",
   "execution_count": 6,
   "metadata": {},
   "outputs": [],
   "source": [
    "x = df['age'].values.reshape(-1,1)\n",
    "y = df['charges'].values.reshape(-1,1)"
   ]
  },
  {
   "cell_type": "markdown",
   "metadata": {},
   "source": [
    "__Instrucción 4__\n",
    "\n",
    "<p style='text-align: justify;'>Separa las variables \"X\" y \"Y\" en conjuntos de entrenamiento y prueba, utilizando el método train_test_split de la librería sklearn.model_selection.</p>"
   ]
  },
  {
   "cell_type": "code",
   "execution_count": 7,
   "metadata": {},
   "outputs": [],
   "source": [
    "from sklearn.model_selection import train_test_split\n",
    "x_train, x_test, y_train, y_test = train_test_split(x,y, test_size=0.3)"
   ]
  },
  {
   "cell_type": "markdown",
   "metadata": {},
   "source": [
    "__Instrucción 5__\n",
    "\n",
    "<p style='text-align: justify;'>Construye un modelo de regresión lineal usando \"Linear Regresion\" de la librería sklearn.linear_model, utilizando en el eje de las \"X\" solamente la columna correspondiente a la variable 'age', y en el eje \"Y\" la variable 'charges'.</p>"
   ]
  },
  {
   "cell_type": "code",
   "execution_count": 8,
   "metadata": {},
   "outputs": [],
   "source": [
    "from sklearn.linear_model import LinearRegression\n",
    "model = LinearRegression().fit(x,y)"
   ]
  },
  {
   "cell_type": "markdown",
   "metadata": {},
   "source": [
    "__Instrucción 6__\n",
    "\n",
    "<p style='text-align: justify;'>Grafica tu modelo de entrenamiento y prueba utilizando una gráfica Scatter y una gráfica de línea que represente el modelo de regresión lineal.</p>\n",
    "\n",
    "Ejemplo de sintaxis para gráfica scatter: \n",
    "\n",
    "__plt.scatter(X_train, y_train)__\n",
    "\n",
    "Ejemplo de sintaxis para gráfica de regresión lineal: \n",
    "\n",
    "__X_plot = np.linspace(0, 60).reshape(-1, 1)__\n",
    "\n",
    "__y_plot = NombreDelModelo.predict(X_plot)__"
   ]
  },
  {
   "cell_type": "code",
   "execution_count": 11,
   "metadata": {
    "collapsed": true
   },
   "outputs": [
    {
     "data": {
      "text/html": [
       "<div>\n",
       "<style scoped>\n",
       "    .dataframe tbody tr th:only-of-type {\n",
       "        vertical-align: middle;\n",
       "    }\n",
       "\n",
       "    .dataframe tbody tr th {\n",
       "        vertical-align: top;\n",
       "    }\n",
       "\n",
       "    .dataframe thead th {\n",
       "        text-align: right;\n",
       "    }\n",
       "</style>\n",
       "<table border=\"1\" class=\"dataframe\">\n",
       "  <thead>\n",
       "    <tr style=\"text-align: right;\">\n",
       "      <th></th>\n",
       "      <th>Unnamed: 0</th>\n",
       "      <th>age</th>\n",
       "      <th>bmi</th>\n",
       "      <th>children</th>\n",
       "      <th>charges</th>\n",
       "    </tr>\n",
       "  </thead>\n",
       "  <tbody>\n",
       "    <tr>\n",
       "      <th>count</th>\n",
       "      <td>712.000000</td>\n",
       "      <td>712.000000</td>\n",
       "      <td>712.000000</td>\n",
       "      <td>712.000000</td>\n",
       "      <td>712.000000</td>\n",
       "    </tr>\n",
       "    <tr>\n",
       "      <th>mean</th>\n",
       "      <td>670.205056</td>\n",
       "      <td>33.091292</td>\n",
       "      <td>30.260351</td>\n",
       "      <td>1.075843</td>\n",
       "      <td>5207.231751</td>\n",
       "    </tr>\n",
       "    <tr>\n",
       "      <th>std</th>\n",
       "      <td>382.925911</td>\n",
       "      <td>10.516150</td>\n",
       "      <td>6.183319</td>\n",
       "      <td>1.175168</td>\n",
       "      <td>2586.608066</td>\n",
       "    </tr>\n",
       "    <tr>\n",
       "      <th>min</th>\n",
       "      <td>1.000000</td>\n",
       "      <td>18.000000</td>\n",
       "      <td>15.960000</td>\n",
       "      <td>0.000000</td>\n",
       "      <td>1121.873900</td>\n",
       "    </tr>\n",
       "    <tr>\n",
       "      <th>25%</th>\n",
       "      <td>348.750000</td>\n",
       "      <td>23.750000</td>\n",
       "      <td>25.885000</td>\n",
       "      <td>0.000000</td>\n",
       "      <td>2803.088088</td>\n",
       "    </tr>\n",
       "    <tr>\n",
       "      <th>50%</th>\n",
       "      <td>674.000000</td>\n",
       "      <td>33.000000</td>\n",
       "      <td>29.922500</td>\n",
       "      <td>1.000000</td>\n",
       "      <td>4933.176000</td>\n",
       "    </tr>\n",
       "    <tr>\n",
       "      <th>75%</th>\n",
       "      <td>990.250000</td>\n",
       "      <td>42.000000</td>\n",
       "      <td>34.128750</td>\n",
       "      <td>2.000000</td>\n",
       "      <td>7350.650413</td>\n",
       "    </tr>\n",
       "    <tr>\n",
       "      <th>max</th>\n",
       "      <td>1336.000000</td>\n",
       "      <td>54.000000</td>\n",
       "      <td>53.130000</td>\n",
       "      <td>5.000000</td>\n",
       "      <td>9991.037650</td>\n",
       "    </tr>\n",
       "  </tbody>\n",
       "</table>\n",
       "</div>"
      ],
      "text/plain": [
       "        Unnamed: 0         age         bmi    children      charges\n",
       "count   712.000000  712.000000  712.000000  712.000000   712.000000\n",
       "mean    670.205056   33.091292   30.260351    1.075843  5207.231751\n",
       "std     382.925911   10.516150    6.183319    1.175168  2586.608066\n",
       "min       1.000000   18.000000   15.960000    0.000000  1121.873900\n",
       "25%     348.750000   23.750000   25.885000    0.000000  2803.088088\n",
       "50%     674.000000   33.000000   29.922500    1.000000  4933.176000\n",
       "75%     990.250000   42.000000   34.128750    2.000000  7350.650413\n",
       "max    1336.000000   54.000000   53.130000    5.000000  9991.037650"
      ]
     },
     "execution_count": 11,
     "metadata": {},
     "output_type": "execute_result"
    }
   ],
   "source": [
    "df.describe()"
   ]
  },
  {
   "cell_type": "code",
   "execution_count": 12,
   "metadata": {
    "scrolled": true
   },
   "outputs": [
    {
     "data": {
      "text/plain": [
       "[<matplotlib.lines.Line2D at 0x19b139dc2e0>]"
      ]
     },
     "execution_count": 12,
     "metadata": {},
     "output_type": "execute_result"
    },
    {
     "data": {
      "image/png": "[encoded data removed]",
      "text/plain": [
       "<Figure size 432x288 with 1 Axes>"
      ]
     },
     "metadata": {
      "needs_background": "light"
     },
     "output_type": "display_data"
    }
   ],
   "source": [
    "x_plot = np.linspace(0,60).reshape(-1,1)\n",
    "y_plot = model.predict(x_plot)\n",
    "plt.scatter(x_train,y_train, c='orange')\n",
    "plt.plot(x_plot,y_plot, c='green')"
   ]
  },
  {
   "cell_type": "markdown",
   "metadata": {},
   "source": [
    "__Instrucción 7__\n",
    "\n",
    "<p style='text-align: justify;'>Importa la métrica r2_Score desde la paquetería de ScikitLearn y evalúa el modelo con la métrica r2_score tanto en el conjunto de entrenamiento, como en el de prueba.</p>"
   ]
  },
  {
   "cell_type": "code",
   "execution_count": 13,
   "metadata": {
    "collapsed": true
   },
   "outputs": [
    {
     "data": {
      "text/plain": [
       "array([[6362.70258326],\n",
       "       [1890.2535367 ],\n",
       "       [4714.95819768],\n",
       "       [1890.2535367 ],\n",
       "       [7068.87874851],\n",
       "       [1654.86148161],\n",
       "       [9893.5834095 ],\n",
       "       [2361.03764686],\n",
       "       [1654.86148161],\n",
       "       [3302.60586719],\n",
       "       [2831.82175703],\n",
       "       [3773.38997735],\n",
       "       [1890.2535367 ],\n",
       "       [3302.60586719],\n",
       "       [2831.82175703],\n",
       "       [4008.78203244],\n",
       "       [5891.9184731 ],\n",
       "       [1654.86148161],\n",
       "       [8952.01518917],\n",
       "       [4714.95819768],\n",
       "       [3537.99792227],\n",
       "       [7539.66285867],\n",
       "       [2596.42970194],\n",
       "       [6598.09463834],\n",
       "       [8010.44696884],\n",
       "       [1890.2535367 ],\n",
       "       [7304.27080359],\n",
       "       [9187.40724425],\n",
       "       [6598.09463834],\n",
       "       [5891.9184731 ],\n",
       "       [7775.05491376],\n",
       "       [8010.44696884],\n",
       "       [8010.44696884],\n",
       "       [9422.79929933],\n",
       "       [8010.44696884],\n",
       "       [3537.99792227],\n",
       "       [1654.86148161],\n",
       "       [7775.05491376],\n",
       "       [4950.35025277],\n",
       "       [2831.82175703],\n",
       "       [3067.21381211],\n",
       "       [2361.03764686],\n",
       "       [1654.86148161],\n",
       "       [8481.231079  ],\n",
       "       [1890.2535367 ],\n",
       "       [2831.82175703],\n",
       "       [2361.03764686],\n",
       "       [1654.86148161],\n",
       "       [7304.27080359],\n",
       "       [4244.17408752],\n",
       "       [1890.2535367 ],\n",
       "       [6362.70258326],\n",
       "       [4479.5661426 ],\n",
       "       [2125.64559178],\n",
       "       [5656.52641801],\n",
       "       [4008.78203244],\n",
       "       [7304.27080359],\n",
       "       [6362.70258326],\n",
       "       [5185.74230785],\n",
       "       [7304.27080359],\n",
       "       [2125.64559178],\n",
       "       [1654.86148161],\n",
       "       [5185.74230785],\n",
       "       [5421.13436293],\n",
       "       [5656.52641801],\n",
       "       [6127.31052818],\n",
       "       [6362.70258326],\n",
       "       [7068.87874851],\n",
       "       [6362.70258326],\n",
       "       [8245.83902392],\n",
       "       [8952.01518917],\n",
       "       [4950.35025277],\n",
       "       [7304.27080359],\n",
       "       [1654.86148161],\n",
       "       [8716.62313409],\n",
       "       [3067.21381211],\n",
       "       [1654.86148161],\n",
       "       [7304.27080359],\n",
       "       [1654.86148161],\n",
       "       [4244.17408752],\n",
       "       [6362.70258326],\n",
       "       [8716.62313409],\n",
       "       [3773.38997735],\n",
       "       [9893.5834095 ],\n",
       "       [4950.35025277],\n",
       "       [2361.03764686],\n",
       "       [7068.87874851],\n",
       "       [1890.2535367 ],\n",
       "       [6598.09463834],\n",
       "       [1654.86148161],\n",
       "       [9422.79929933],\n",
       "       [9422.79929933],\n",
       "       [1890.2535367 ],\n",
       "       [6598.09463834],\n",
       "       [8716.62313409],\n",
       "       [5656.52641801],\n",
       "       [7068.87874851],\n",
       "       [6598.09463834],\n",
       "       [3067.21381211],\n",
       "       [7304.27080359],\n",
       "       [7539.66285867],\n",
       "       [3302.60586719],\n",
       "       [4714.95819768],\n",
       "       [4950.35025277],\n",
       "       [8716.62313409],\n",
       "       [1654.86148161],\n",
       "       [3302.60586719],\n",
       "       [3067.21381211],\n",
       "       [4479.5661426 ],\n",
       "       [6833.48669343],\n",
       "       [5891.9184731 ],\n",
       "       [7068.87874851],\n",
       "       [1654.86148161],\n",
       "       [8952.01518917],\n",
       "       [8010.44696884],\n",
       "       [9187.40724425],\n",
       "       [9422.79929933],\n",
       "       [8481.231079  ],\n",
       "       [3537.99792227],\n",
       "       [7775.05491376],\n",
       "       [8716.62313409],\n",
       "       [8481.231079  ],\n",
       "       [5656.52641801],\n",
       "       [1890.2535367 ],\n",
       "       [8245.83902392],\n",
       "       [2125.64559178],\n",
       "       [4714.95819768],\n",
       "       [9187.40724425],\n",
       "       [3537.99792227],\n",
       "       [4950.35025277],\n",
       "       [1654.86148161],\n",
       "       [1890.2535367 ],\n",
       "       [6362.70258326],\n",
       "       [8716.62313409],\n",
       "       [4950.35025277],\n",
       "       [3773.38997735],\n",
       "       [3773.38997735],\n",
       "       [4714.95819768],\n",
       "       [9658.19135441],\n",
       "       [7304.27080359],\n",
       "       [7068.87874851],\n",
       "       [2125.64559178],\n",
       "       [1654.86148161],\n",
       "       [4244.17408752],\n",
       "       [8010.44696884],\n",
       "       [5421.13436293],\n",
       "       [9422.79929933],\n",
       "       [7539.66285867],\n",
       "       [1654.86148161],\n",
       "       [5891.9184731 ],\n",
       "       [4479.5661426 ],\n",
       "       [4479.5661426 ],\n",
       "       [3067.21381211],\n",
       "       [7539.66285867],\n",
       "       [3067.21381211],\n",
       "       [2361.03764686],\n",
       "       [3302.60586719],\n",
       "       [3302.60586719],\n",
       "       [9658.19135441],\n",
       "       [4479.5661426 ],\n",
       "       [6362.70258326],\n",
       "       [4479.5661426 ],\n",
       "       [3537.99792227],\n",
       "       [1654.86148161],\n",
       "       [9422.79929933],\n",
       "       [7068.87874851],\n",
       "       [1890.2535367 ],\n",
       "       [1890.2535367 ],\n",
       "       [2125.64559178],\n",
       "       [1890.2535367 ],\n",
       "       [4244.17408752],\n",
       "       [2596.42970194],\n",
       "       [5421.13436293],\n",
       "       [7304.27080359],\n",
       "       [1654.86148161],\n",
       "       [6127.31052818],\n",
       "       [7775.05491376],\n",
       "       [6362.70258326],\n",
       "       [6833.48669343],\n",
       "       [4008.78203244],\n",
       "       [8481.231079  ],\n",
       "       [8245.83902392],\n",
       "       [8010.44696884],\n",
       "       [1654.86148161],\n",
       "       [8952.01518917],\n",
       "       [7068.87874851],\n",
       "       [5185.74230785],\n",
       "       [1654.86148161],\n",
       "       [6127.31052818],\n",
       "       [8481.231079  ],\n",
       "       [1890.2535367 ],\n",
       "       [4244.17408752],\n",
       "       [1890.2535367 ],\n",
       "       [8245.83902392],\n",
       "       [5891.9184731 ],\n",
       "       [4479.5661426 ],\n",
       "       [3302.60586719],\n",
       "       [2831.82175703],\n",
       "       [1890.2535367 ],\n",
       "       [6362.70258326],\n",
       "       [4714.95819768],\n",
       "       [4479.5661426 ],\n",
       "       [2361.03764686],\n",
       "       [6127.31052818],\n",
       "       [9422.79929933],\n",
       "       [2361.03764686],\n",
       "       [8952.01518917],\n",
       "       [4714.95819768],\n",
       "       [2125.64559178],\n",
       "       [7539.66285867],\n",
       "       [1890.2535367 ],\n",
       "       [4479.5661426 ],\n",
       "       [5185.74230785],\n",
       "       [4714.95819768]])"
      ]
     },
     "execution_count": 13,
     "metadata": {},
     "output_type": "execute_result"
    }
   ],
   "source": [
    "y_train_prediccion = model.predict(x_train)\n",
    "y_test_prediccion = model.predict(x_test)\n",
    "y_train_prediccion\n",
    "y_test_prediccion"
   ]
  },
  {
   "cell_type": "code",
   "execution_count": 15,
   "metadata": {},
   "outputs": [
    {
     "data": {
      "text/plain": [
       "0.9130283314882258"
      ]
     },
     "execution_count": 15,
     "metadata": {},
     "output_type": "execute_result"
    }
   ],
   "source": [
    "from sklearn.metrics import r2_score\n",
    "r2_score(y_train, y_train_prediccion)"
   ]
  },
  {
   "cell_type": "code",
   "execution_count": 16,
   "metadata": {},
   "outputs": [
    {
     "data": {
      "text/plain": [
       "0.9218065393266044"
      ]
     },
     "execution_count": 16,
     "metadata": {},
     "output_type": "execute_result"
    }
   ],
   "source": [
    "r2_score(y_test, y_test_prediccion)"
   ]
  },
  {
   "cell_type": "markdown",
   "metadata": {},
   "source": [
    "__Instrucción 8__\n",
    "\n",
    "<p style='text-align: justify;'>Repetir las instrucciones 3, 4, 5, 6 y 7 sustituyendo la variable \"age\" por \"BMI\" y escribe en tu libreta de Jupyter por qué no es una variable relevante para realizar una predicción acertada del costo del servicio médico.</p>"
   ]
  },
  {
   "cell_type": "code",
   "execution_count": 18,
   "metadata": {},
   "outputs": [],
   "source": [
    "x1 = df['bmi'].values.reshape(-1,1)\n",
    "y1 = df['charges'].values.reshape(-1,1)"
   ]
  },
  {
   "cell_type": "code",
   "execution_count": 19,
   "metadata": {},
   "outputs": [],
   "source": [
    "from sklearn.model_selection import train_test_split\n",
    "x1_train, x1_test, y1_train, y1_test = train_test_split(x1,y1, test_size=0.3)"
   ]
  },
  {
   "cell_type": "code",
   "execution_count": 20,
   "metadata": {},
   "outputs": [],
   "source": [
    "model1 = LinearRegression().fit(x1,y1)"
   ]
  },
  {
   "cell_type": "code",
   "execution_count": 21,
   "metadata": {},
   "outputs": [
    {
     "data": {
      "text/plain": [
       "[<matplotlib.lines.Line2D at 0x19b13bb28b0>]"
      ]
     },
     "execution_count": 21,
     "metadata": {},
     "output_type": "execute_result"
    },
    {
     "data": {
      "image/png": "[encoded data removed]",
      "text/plain": [
       "<Figure size 432x288 with 1 Axes>"
      ]
     },
     "metadata": {
      "needs_background": "light"
     },
     "output_type": "display_data"
    }
   ],
   "source": [
    "x1_plot = np.linspace(0,60).reshape(-1,1)\n",
    "y1_plot = model.predict(x1_plot)\n",
    "plt.scatter(x1_train,y1_train, c='orange')\n",
    "plt.plot(x1_plot,y1_plot, c= 'green')\n",
    "\n"
   ]
  },
  {
   "cell_type": "code",
   "execution_count": 25,
   "metadata": {},
   "outputs": [
    {
     "data": {
      "text/plain": [
       "-0.33509823879982736"
      ]
     },
     "execution_count": 25,
     "metadata": {},
     "output_type": "execute_result"
    }
   ],
   "source": [
    "y1_train_prediccion = model.predict(x1_train)\n",
    "y1_test_prediccion = model.predict(x1_test)\n",
    "r2_score(y1_train, y1_train_prediccion)"
   ]
  },
  {
   "cell_type": "code",
   "execution_count": 26,
   "metadata": {},
   "outputs": [
    {
     "data": {
      "text/plain": [
       "-0.2895518808165698"
      ]
     },
     "execution_count": 26,
     "metadata": {},
     "output_type": "execute_result"
    }
   ],
   "source": [
    "r2_score(y1_test, y1_test_prediccion)"
   ]
  },
  {
   "cell_type": "markdown",
   "metadata": {},
   "source": [
    "__Conclusión__: El índice de masa corporal no es una variable relevante para realizar una predicción debido a que, como se puede observar\n",
    "en la gráfica, no hay una correlación entre el BMI y la cantidad asegurada. Además, al usar la métrica r2 para evaluar la predicción, el valor que se obtiene es muy pequeño. Por ello no podemos utilizar esa variable\n",
    "para hacer predicciones. La edad sí se podría utilizar porque sí se observaba una correlación positiva entre edad y costo.\n"
   ]
  },
  {
   "cell_type": "markdown",
   "metadata": {},
   "source": [
    "__Instrucción 9__\n",
    "\n",
    "<p style='text-align: justify;'>Guarda el ejercicio en la libreta de Jupyter e insértalo en una carpeta .zip. Posteriormente súbelo a la plataforma de CANVAS.</p>"
   ]
  }
 ],
 "metadata": {
  "kernelspec": {
   "display_name": "Python 3",
   "language": "python",
   "name": "python3"
  },
  "language_info": {
   "codemirror_mode": {
    "name": "ipython",
    "version": 3
   },
   "file_extension": ".py",
   "mimetype": "text/x-python",
   "name": "python",
   "nbconvert_exporter": "python",
   "pygments_lexer": "ipython3",
   "version": "3.8.8"
  }
 },
 "nbformat": 4,
 "nbformat_minor": 2
}
